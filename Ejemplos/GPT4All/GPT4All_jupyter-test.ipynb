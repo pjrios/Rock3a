{
 "cells": [
  {
   "cell_type": "code",
   "execution_count": 1,
   "id": "04262d9d",
   "metadata": {},
   "outputs": [],
   "source": [
    "# Librerias\n",
    "from gpt4all import GPT4All"
   ]
  },
  {
   "cell_type": "code",
   "execution_count": 2,
   "id": "b839995d",
   "metadata": {},
   "outputs": [
    {
     "name": "stdout",
     "output_type": "stream",
     "text": [
      "Found model file at  C:\\\\Users\\\\pjrio\\\\AppData\\\\Local\\\\nomic.ai\\\\GPT4All\\\\nous-hermes-13b.ggmlv3.q4_0.bin\n"
     ]
    }
   ],
   "source": [
    "# Importar modelo\n",
    "model = GPT4All(\"C:\\\\Users\\\\pjrio\\\\AppData\\\\Local\\\\nomic.ai\\\\GPT4All\\\\nous-hermes-13b.ggmlv3.q4_0.bin\")"
   ]
  },
  {
   "cell_type": "code",
   "execution_count": 13,
   "id": "b30d788b",
   "metadata": {},
   "outputs": [
    {
     "name": "stdout",
     "output_type": "stream",
     "text": [
      "Sure, I can help you with that! Here's an example code:\n",
      "```python\n",
      "count = 0\n",
      "percent_left = (count - 1) / count * 100\n",
      "print(\"Current Count:\", count)\n",
      "while count <= 1500:\n",
      "    print(f\"Percentage Left: {percent_left}\")\n",
      "    count += 10\n",
      "    percent_left = ((count - 1) / count * 100)\n",
      "```\n",
      "This code starts at `count` of 0 and increments by 10 until it reaches 1500. It then calculates the percentage left using `(count - 1) / count * 100`. The while loop runs as long as `count` is less than or equal to 1500, printing out the current count and percentage left with each iteration.\n",
      "\n",
      "\n"
     ]
    }
   ],
   "source": [
    "output = model.generate(\"Me podrias ayudar a hacer un programa de python simple que comience de zero cuente de 10 en 10 hasta 1500? Quiero mostrar la cantidad actual y el porcentaje restante.\")\n",
    "print(output)"
   ]
  },
  {
   "cell_type": "code",
   "execution_count": null,
   "id": "c30efa7d",
   "metadata": {},
   "outputs": [],
   "source": []
  }
 ],
 "metadata": {
  "kernelspec": {
   "display_name": "Python 3 (ipykernel)",
   "language": "python",
   "name": "python3"
  },
  "language_info": {
   "codemirror_mode": {
    "name": "ipython",
    "version": 3
   },
   "file_extension": ".py",
   "mimetype": "text/x-python",
   "name": "python",
   "nbconvert_exporter": "python",
   "pygments_lexer": "ipython3",
   "version": "3.10.12"
  }
 },
 "nbformat": 4,
 "nbformat_minor": 5
}
